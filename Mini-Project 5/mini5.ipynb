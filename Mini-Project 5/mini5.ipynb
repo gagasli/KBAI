{
 "cells": [
  {
   "cell_type": "code",
   "execution_count": 16,
   "metadata": {},
   "outputs": [],
   "source": [
    "diseases = {\"Alphaitis\":\n",
    "             {\"A\": \"+\", \"B\": \"0\", \"C\": \"-\", \"D\": \"0\", \"E\": \"0\", \"F\": \"+\", \"G\": \"0\", \"H\": \"0\", \"I\": \"+\",\n",
    "              \"J\": \"-\", \"K\": \"0\", \"L\": \"0\", \"M\": \"0\", \"N\": \"0\", \"O\": \"-\", \"P\": \"0\", \"Q\": \"0\", \"R\": \"0\",\n",
    "              \"S\": \"0\", \"T\": \"0\", \"U\": \"0\", \"V\": \"0\", \"W\": \"0\", \"X\": \"0\", \"Y\": \"0\", \"Z\": \"+\"},\n",
    "            \"Betatosis\":\n",
    "             {\"A\": \"0\", \"B\": \"0\", \"C\": \"-\", \"D\": \"0\", \"E\": \"+\", \"F\": \"-\", \"G\": \"0\", \"H\": \"0\", \"I\": \"+\",\n",
    "              \"J\": \"+\", \"K\": \"0\", \"L\": \"0\", \"M\": \"0\", \"N\": \"0\", \"O\": \"0\", \"P\": \"0\", \"Q\": \"0\", \"R\": \"-\",\n",
    "              \"S\": \"0\", \"T\": \"0\", \"U\": \"0\", \"V\": \"0\", \"W\": \"0\", \"X\": \"0\", \"Y\": \"0\", \"Z\": \"-\"},\n",
    "            \"Gammanoma\":\n",
    "             {\"A\": \"0\", \"B\": \"+\", \"C\": \"+\", \"D\": \"+\", \"E\": \"+\", \"F\": \"+\", \"G\": \"0\", \"H\": \"0\", \"I\": \"0\",\n",
    "              \"J\": \"0\", \"K\": \"0\", \"L\": \"0\", \"M\": \"0\", \"N\": \"0\", \"O\": \"0\", \"P\": \"0\", \"Q\": \"0\", \"R\": \"0\",\n",
    "              \"S\": \"0\", \"T\": \"0\", \"U\": \"0\", \"V\": \"0\", \"W\": \"0\", \"X\": \"0\", \"Y\": \"0\", \"Z\": \"+\"},\n",
    "            \"Deltaccol\":\n",
    "             {\"A\": \"0\", \"B\": \"0\", \"C\": \"+\", \"D\": \"0\", \"E\": \"0\", \"F\": \"0\", \"G\": \"0\", \"H\": \"-\", \"I\": \"0\",\n",
    "              \"J\": \"0\", \"K\": \"0\", \"L\": \"0\", \"M\": \"0\", \"N\": \"0\", \"O\": \"0\", \"P\": \"0\", \"Q\": \"0\", \"R\": \"0\",\n",
    "              \"S\": \"0\", \"T\": \"0\", \"U\": \"0\", \"V\": \"0\", \"W\": \"0\", \"X\": \"0\", \"Y\": \"0\", \"Z\": \"-\"},\n",
    "            \"Epsicusus\":\n",
    "             {\"A\": \"0\", \"B\": \"0\", \"C\": \"+\", \"D\": \"0\", \"E\": \"0\", \"F\": \"0\", \"G\": \"0\", \"H\": \"0\", \"I\": \"+\",\n",
    "              \"J\": \"+\", \"K\": \"0\", \"L\": \"0\", \"M\": \"0\", \"N\": \"0\", \"O\": \"0\", \"P\": \"0\", \"Q\": \"0\", \"R\": \"0\",\n",
    "              \"S\": \"0\", \"T\": \"0\", \"U\": \"0\", \"V\": \"0\", \"W\": \"0\", \"X\": \"0\", \"Y\": \"0\", \"Z\": \"+\"}}\n",
    "\n",
    "patient_1 = {\"A\": \"+\", \"B\": \"0\", \"C\": \"-\", \"D\": \"0\", \"E\": \"+\", \"F\": \"0\", \"G\": \"0\", \"H\": \"0\", \"I\": \"+\", \"J\": \"0\", \"K\": \"0\", \"L\": \"0\", \"M\": \"0\", \"N\": \"0\", \"O\": \"-\", \"P\": \"0\", \"Q\": \"0\", \"R\": \"-\", \"S\": \"0\", \"T\": \"0\", \"U\": \"0\", \"V\": \"0\", \"W\": \"0\", \"X\": \"0\", \"Y\": \"0\", \"Z\": \"0\"}\n",
    "patient_2 = {\"A\": \"0\", \"B\": \"+\", \"C\": \"+\", \"D\": \"+\", \"E\": \"+\", \"F\": \"+\", \"G\": \"0\", \"H\": \"-\", \"I\": \"+\", \"J\": \"+\", \"K\": \"0\", \"L\": \"0\", \"M\": \"0\", \"N\": \"0\", \"O\": \"0\", \"P\": \"0\", \"Q\": \"0\", \"R\": \"0\", \"S\": \"0\", \"T\": \"0\", \"U\": \"0\", \"V\": \"0\", \"W\": \"0\", \"X\": \"0\", \"Y\": \"0\", \"Z\": \"+\"}\n"
   ]
  },
  {
   "cell_type": "code",
   "execution_count": 27,
   "metadata": {},
   "outputs": [],
   "source": [
    "from MonsterDiagnosisAgent import MonsterDiagnosisAgent"
   ]
  },
  {
   "cell_type": "code",
   "execution_count": 28,
   "metadata": {},
   "outputs": [],
   "source": [
    "my_agent = MonsterDiagnosisAgent()"
   ]
  },
  {
   "cell_type": "code",
   "execution_count": 29,
   "metadata": {},
   "outputs": [
    {
     "data": {
      "text/plain": [
       "('Alphaitis', 'Betatosis')"
      ]
     },
     "execution_count": 29,
     "metadata": {},
     "output_type": "execute_result"
    }
   ],
   "source": [
    "my_agent.solve(diseases, patient_1)"
   ]
  },
  {
   "cell_type": "code",
   "execution_count": 30,
   "metadata": {},
   "outputs": [
    {
     "data": {
      "text/plain": [
       "('Gammanoma', 'Deltaccol', 'Epsicusus')"
      ]
     },
     "execution_count": 30,
     "metadata": {},
     "output_type": "execute_result"
    }
   ],
   "source": [
    "my_agent.solve(diseases, patient_2)"
   ]
  },
  {
   "cell_type": "code",
   "execution_count": 2,
   "metadata": {},
   "outputs": [],
   "source": [
    "test_tuple = ('Alphaitis', 'Betatosis', 'Gammanoma')"
   ]
  },
  {
   "cell_type": "code",
   "execution_count": null,
   "metadata": {},
   "outputs": [],
   "source": []
  },
  {
   "cell_type": "code",
   "execution_count": 13,
   "metadata": {},
   "outputs": [],
   "source": [
    "\n",
    "def get_sym(d_tuple):\n",
    "    sym_dict = {}\n",
    "    for v_id in v_list_2:\n",
    "        value = sum(string2num(diseases[d][v_id]) for d in d_tuple)\n",
    "        sym_dict[v_id] = num2string(value)\n",
    "    \n",
    "    return sym_dict"
   ]
  },
  {
   "cell_type": "code",
   "execution_count": 14,
   "metadata": {},
   "outputs": [
    {
     "data": {
      "text/plain": [
       "{'A': '+',\n",
       " 'B': '+',\n",
       " 'C': '-',\n",
       " 'D': '+',\n",
       " 'E': '+',\n",
       " 'F': '+',\n",
       " 'H': '0',\n",
       " 'I': '+',\n",
       " 'J': '0',\n",
       " 'O': '-',\n",
       " 'R': '-',\n",
       " 'Z': '+'}"
      ]
     },
     "execution_count": 14,
     "metadata": {},
     "output_type": "execute_result"
    }
   ],
   "source": [
    "get_sym(test_tuple)"
   ]
  },
  {
   "cell_type": "code",
   "execution_count": 6,
   "metadata": {},
   "outputs": [],
   "source": [
    "v_list = [chr(id) for id in range(ord('A'), ord('Z') + 1)]\n",
    "v_list_2 = []\n",
    "\n",
    "for v_id in v_list:\n",
    "    value = None\n",
    "    for _, d_dict in diseases.items():\n",
    "        if not value: value = d_dict[v_id]\n",
    "        elif d_dict[v_id] != value: \n",
    "            v_list_2.append(v_id)\n",
    "            break\n",
    "    \n"
   ]
  },
  {
   "cell_type": "code",
   "execution_count": 24,
   "metadata": {},
   "outputs": [],
   "source": [
    "def find_sym(sym, patient):\n",
    "    for v_id in v_list_2:\n",
    "        if sym[v_id] != patient[v_id]: return False\n",
    "    \n",
    "    return True"
   ]
  },
  {
   "cell_type": "code",
   "execution_count": 25,
   "metadata": {},
   "outputs": [],
   "source": [
    "def solve():\n",
    "    for d_num in range(1, len(diseases)+1):\n",
    "        combos = list(combinations(diseases.keys(), d_num))\n",
    "        for combo in combos:\n",
    "            sym = get_sym(combo)\n",
    "            if find_sym(sym, patient_1): return combo\n",
    "            "
   ]
  },
  {
   "cell_type": "code",
   "execution_count": 26,
   "metadata": {},
   "outputs": [
    {
     "data": {
      "text/plain": [
       "('Alphaitis', 'Betatosis')"
      ]
     },
     "execution_count": 26,
     "metadata": {},
     "output_type": "execute_result"
    }
   ],
   "source": [
    "solve()"
   ]
  },
  {
   "cell_type": "code",
   "execution_count": null,
   "metadata": {},
   "outputs": [],
   "source": []
  }
 ],
 "metadata": {
  "kernelspec": {
   "display_name": "Python 3.8.5 ('base')",
   "language": "python",
   "name": "python3"
  },
  "language_info": {
   "codemirror_mode": {
    "name": "ipython",
    "version": 3
   },
   "file_extension": ".py",
   "mimetype": "text/x-python",
   "name": "python",
   "nbconvert_exporter": "python",
   "pygments_lexer": "ipython3",
   "version": "3.8.5"
  },
  "orig_nbformat": 4,
  "vscode": {
   "interpreter": {
    "hash": "5179d32cf6ec497baf3f8a3ef987cc77c5d2dc691fdde20a56316522f61a7323"
   }
  }
 },
 "nbformat": 4,
 "nbformat_minor": 2
}
