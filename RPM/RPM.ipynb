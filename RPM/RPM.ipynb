{
 "cells": [
  {
   "cell_type": "code",
   "execution_count": 1,
   "metadata": {},
   "outputs": [],
   "source": [
    "import numpy as np\n",
    "import cv2"
   ]
  },
  {
   "cell_type": "code",
   "execution_count": 2,
   "metadata": {},
   "outputs": [],
   "source": [
    "%matplotlib inline\n",
    "from matplotlib import pyplot as plt\n",
    "from ProblemSet import ProblemSet"
   ]
  },
  {
   "cell_type": "code",
   "execution_count": 66,
   "metadata": {},
   "outputs": [],
   "source": [
    "# Allowable libraries:\n",
    "# - Python 3.10.12\n",
    "# - Pillow 10.0.0\n",
    "# - numpy 1.25.2\n",
    "# - OpenCV 4.6.0 (with opencv-contrib-python-headless 4.6.0.66)\n",
    "\n",
    "# To activate image processing, uncomment the following imports:\n",
    "# from PIL import Image\n",
    "import numpy as np\n",
    "import cv2\n",
    "\n",
    "class Agent:\n",
    "    def __init__(self):\n",
    "        \"\"\"\n",
    "        The default constructor for your Agent. Make sure to execute any processing necessary before your Agent starts\n",
    "        solving problems here. Do not add any variables to this signature; they will not be used by main().\n",
    "        \n",
    "        This init method is only called once when the Agent is instantiated \n",
    "        while the Solve method will be called multiple times. \n",
    "        \"\"\"\n",
    "        pass\n",
    "\n",
    "    def Solve(self, problem):\n",
    "        \"\"\"\n",
    "        Primary method for solving incoming Raven's Progressive Matrices.\n",
    "\n",
    "        Args:\n",
    "            problem: The RavensProblem instance.\n",
    "\n",
    "        Returns:\n",
    "            int: The answer (1-6 for 2x2 OR 1-8 for 3x3).\n",
    "            Return a negative number to skip a problem.\n",
    "            Remember to return the answer [Key], not the name, as the ANSWERS ARE SHUFFLED in Gradescope.\n",
    "        \"\"\"\n",
    "\n",
    "        '''\n",
    "        DO NOT use absolute file pathing to open files.\n",
    "        \n",
    "        Example: Read the 'A' figure from the problem using Pillow\n",
    "            image_a = Image.open(problem.figures[\"A\"].visualFilename)\n",
    "            \n",
    "        Example: Read the '1' figure from the problem using OpenCv\n",
    "            image_1 = cv2.imread(problem.figures[\"1\"].visualFilename)\n",
    "            \n",
    "        Don't forget to uncomment the import!\n",
    "        '''\n",
    "\n",
    "        if problem.problemType == \"3x3\":\n",
    "            my_answer = self.tackle_3x3(problem)\n",
    "\n",
    "        return my_answer if my_answer else 7\n",
    "    \n",
    "    def tackle_3x3(self, problem):\n",
    "\n",
    "        self.image_dict = {}\n",
    "        for image_id in range(ord('A'), ord('H') + 1):\n",
    "            self.image_dict[chr(image_id)] = cv2.imread(problem.figures[chr(image_id)].visualFilename)\n",
    "\n",
    "        self.answer_list = [cv2.imread(problem.figures[str(index)].visualFilename) for index in range(1, 9)]\n",
    "        \n",
    "        candidate_list = [\n",
    "            self.pixel_count_diff_3x3(),\n",
    "            self.pixel_percent_chage_3x3(),\n",
    "            self.flip_3x3(),\n",
    "            # self.trixor_3x3(),\n",
    "            self.sim_group_3x3(),\n",
    "            self.and_3x3(),\n",
    "            # self.subtract_3x3(),\n",
    "            self.xor_3x3(),\n",
    "            self.intersect_3x3()\n",
    "        ]\n",
    "        \n",
    "        print(candidate_list)\n",
    "        answer = get_best_answer_3x3(candidate_list)\n",
    "\n",
    "        return answer\n",
    "    \n",
    "    def trixor_3x3(self):\n",
    "\n",
    "        answer, prob = None, None\n",
    "        best_combo = min(grouped_combinations, key=lambda combo: self.get_triple_xor_diff(combo[0])[0])\n",
    "        picked, rest = best_combo[0], best_combo[1]\n",
    "        triple_xor_diff, pixel_count_target = self.get_triple_xor_diff(picked)\n",
    "        if triple_xor_diff <= 0.05:\n",
    "            answer_index = min(range(len(self.answer_list)), key=lambda answer_id: get_diff(pixel_count_target, count_black_pixel(triple_xor(self.answer_list[answer_id], self.image_dict[rest[0]], self.image_dict[rest[1]]))))\n",
    "            prob = 0.8 - get_diff(pixel_count_target, count_black_pixel(triple_xor(self.answer_list[answer_index], self.image_dict[rest[0]], self.image_dict[rest[1]])))\n",
    "            answer = answer_index+1\n",
    "        return answer, prob\n",
    "    \n",
    "    def sim_group_3x3(self):\n",
    "\n",
    "        answer, prob = None, None\n",
    "        best_combo = min(grouped_combinations, key=lambda combo: self.get_triple_xor_sum(combo[0]))\n",
    "        picked, rest = best_combo[0], best_combo[1]\n",
    "        triple_xor_sum = self.get_triple_xor_sum(picked)\n",
    "\n",
    "        if triple_xor_sum <= 3000:\n",
    "            answer_index = min(range(len(self.answer_list)), key=lambda answer_id: count_black_pixel(triple_xor(self.answer_list[answer_id], self.image_dict[rest[0]], self.image_dict[rest[1]])))\n",
    "            prob = 1 - count_black_pixel(triple_xor(self.answer_list[answer_index], self.image_dict[rest[0]], self.image_dict[rest[1]])) / 184 ** 2\n",
    "            answer = answer_index+1\n",
    "        return answer, prob\n",
    "\n",
    "\n",
    "    def get_triple_xor_diff(self, combo):\n",
    "\n",
    "        (id1, id2, id3), (id4, id5, id6) = combo\n",
    "        img1, img2, img3, img4, img5, img6 = self.image_dict[id1], self.image_dict[id2], self.image_dict[id3], self.image_dict[id4], self.image_dict[id5], self.image_dict[id6]\n",
    "        trixor1 = triple_xor(img1, img2, img3)\n",
    "        trixor2 = triple_xor(img4, img5, img6)\n",
    "        pc_trixor1, pc_trixor2 = count_black_pixel(trixor1), count_black_pixel(trixor2)\n",
    "        \n",
    "        return get_diff(pc_trixor1, pc_trixor2), (pc_trixor1+pc_trixor2)/2\n",
    "\n",
    "    def get_triple_xor_sum(self, combo):\n",
    "\n",
    "        (id1, id2, id3), (id4, id5, id6) = combo\n",
    "        img1, img2, img3, img4, img5, img6 = self.image_dict[id1], self.image_dict[id2], self.image_dict[id3], self.image_dict[id4], self.image_dict[id5], self.image_dict[id6]\n",
    "        trixor1 = triple_xor(img1, img2, img3)\n",
    "        trixor2 = triple_xor(img4, img5, img6)\n",
    "        pc_trixor = count_black_pixel(trixor1) + count_black_pixel(trixor2)\n",
    "        \n",
    "        return pc_trixor\n",
    "\n",
    "    def intersect_3x3(self):\n",
    "\n",
    "        answer, prob = None, None\n",
    "        candidate_img = get_candidate_intersect_3x3(self.image_dict)\n",
    "        if candidate_img is not None:\n",
    "            answer_sim_list = [similarity(answer, candidate_img) for answer in self.answer_list]\n",
    "            prob = max(answer_sim_list)\n",
    "            answer = answer_sim_list.index(prob) + 1\n",
    "\n",
    "        return (answer, prob)\n",
    "\n",
    "    def subtract_3x3(self):\n",
    "\n",
    "        answer, prob = None, None\n",
    "        pixel_count_target = get_candidate_subtract_3x3(self.image_dict)\n",
    "        if pixel_count_target: answer, prob = get_answer_pixel(self.answer_list, pixel_count_target)\n",
    "\n",
    "        return (answer, prob)\n",
    "    \n",
    "    def and_3x3(self):\n",
    "\n",
    "        answer, prob = None, None\n",
    "        candidate_img = get_candidate_and_3x3(self.image_dict)\n",
    "        if candidate_img is not None:\n",
    "            answer_diff_list = [get_diff(count_black_pixel(answer), count_black_pixel(candidate_img)) for answer in self.answer_list]\n",
    "            min_diff = min(answer_diff_list)\n",
    "            answer = answer_diff_list.index(min_diff) + 1\n",
    "            prob = 1 - min_diff\n",
    "\n",
    "        return (answer, prob)        \n",
    "    \n",
    "    def xor_3x3(self):\n",
    "\n",
    "        answer, prob = None, None\n",
    "        candidate_img = get_candidate_xor_3x3(self.image_dict)\n",
    "        if candidate_img is not None:\n",
    "            answer_sim_list = [-similarity(answer, candidate_img) for answer in self.answer_list]\n",
    "            prob = max(answer_sim_list)\n",
    "            answer = answer_sim_list.index(prob) + 1\n",
    "\n",
    "        return (answer, prob)\n",
    "    \n",
    "    def flip_3x3(self):\n",
    "\n",
    "        answer, prob = None, None\n",
    "        candidate_img = get_candidate_flip_3x3(self.image_dict)\n",
    "        if candidate_img is not None:\n",
    "            answer_sim_list = [similarity(answer, candidate_img) for answer in self.answer_list]\n",
    "            prob = max(answer_sim_list)\n",
    "            answer = answer_sim_list.index(prob) + 1\n",
    "\n",
    "        return (answer, prob)\n",
    "    \n",
    "    def pixel_count_diff_3x3(self):\n",
    "\n",
    "        answer, prob = None, None\n",
    "        pixel_count_target = get_candidate_pixel_count_3x3(self.image_dict)\n",
    "        if pixel_count_target: answer, prob = get_answer_pixel(self.answer_list, pixel_count_target)\n",
    "\n",
    "        return (answer, prob)\n",
    "    \n",
    "    def pixel_percent_chage_3x3(self):\n",
    "\n",
    "        answer, prob = None, None\n",
    "        pixel_count_target = get_candidate_pixel_rate_3x3(self.image_dict)\n",
    "        if pixel_count_target: answer, prob = get_answer_pixel(self.answer_list, pixel_count_target)\n",
    "\n",
    "        return (answer, prob)\n",
    "\n",
    "def similarity(image1, image2):\n",
    "    # Calculate the normalized cross-correlation (NCC)\n",
    "    ncc = cv2.matchTemplate(image1, image2, cv2.TM_CCOEFF_NORMED)\n",
    "    return min(1, ncc)\n",
    "\n",
    "def get_best_answer_3x3(candidate_list):\n",
    "\n",
    "    answer = None \n",
    "    candidate_list = [candidate for candidate in candidate_list if candidate[0]]\n",
    "    if candidate_list:\n",
    "        bset_answer = max(candidate_list, key=lambda x: x[1])\n",
    "        answer = bset_answer[0]\n",
    "    return answer\n",
    "\n",
    "def count_black_pixel(image, threshold=245):\n",
    "    gray_img = cv2.cvtColor(image, cv2.COLOR_BGR2GRAY)\n",
    "    return (gray_img < threshold).sum()\n",
    "\n",
    "def get_candidate_pixel_count_3x3(image_dict, threshold=0.05):\n",
    "\n",
    "    pc_dict = {}\n",
    "    for image_id, img in image_dict.items():\n",
    "        pc_dict[image_id] = count_black_pixel(img)\n",
    "        \n",
    "    # row 1\n",
    "    row_1_diff = abs(2 * pc_dict['B'] - pc_dict['A'] - pc_dict['C']) / pc_dict['B']\n",
    "    # row 2\n",
    "    row_2_diff = abs(2 * pc_dict['E'] - pc_dict['D'] - pc_dict['F']) / pc_dict['E']\n",
    "\n",
    "    if row_1_diff <= threshold and row_2_diff <= threshold:\n",
    "        return 2 * pc_dict['H'] - pc_dict['G']\n",
    "    \n",
    "    # col 1\n",
    "    col_1_diff = abs(2 * pc_dict['D'] - pc_dict['A'] - pc_dict['G']) / pc_dict['D']\n",
    "    # col 2\n",
    "    col_2_diff = abs(2 * pc_dict['E'] - pc_dict['B'] - pc_dict['H']) / pc_dict['E']\n",
    "\n",
    "    if col_1_diff <= threshold and col_2_diff <= threshold:\n",
    "        return 2 * pc_dict['F'] - pc_dict['C']\n",
    "\n",
    "def get_candidate_pixel_rate_3x3(image_dict, threshold=0.1):\n",
    "\n",
    "    pc_dict = {}\n",
    "    for image_id, img in image_dict.items():\n",
    "        pc_dict[image_id] = count_black_pixel(img)\n",
    "        \n",
    "    # row 1\n",
    "    AB_diff = pc_dict['B'] / (pc_dict['A'] + 1)\n",
    "    BC_diff = pc_dict['C'] / (pc_dict['B'] + 1)\n",
    "    # row 2\n",
    "    DE_diff = pc_dict['E'] / (pc_dict['D'] + 1)\n",
    "    EF_diff = pc_dict['F'] / (pc_dict['E'] + 1)\n",
    "\n",
    "    if get_diff(AB_diff, DE_diff) <= threshold and get_diff(BC_diff, EF_diff) <= threshold:\n",
    "        return pc_dict['H'] * (BC_diff + EF_diff) / 2\n",
    "    \n",
    "    # col 1\n",
    "    AD_diff = pc_dict['D'] / (pc_dict['A'] + 1)\n",
    "    DG_diff = pc_dict['G'] / (pc_dict['D'] + 1)\n",
    "    # col 2\n",
    "    BE_diff = pc_dict['E'] / (pc_dict['B'] + 1)\n",
    "    EH_diff = pc_dict['H'] / (pc_dict['E'] + 1)\n",
    "\n",
    "    if get_diff(AD_diff, BE_diff) <= threshold and get_diff(DG_diff, EH_diff) <= threshold:\n",
    "        return pc_dict['F'] * (DG_diff + EH_diff) / 2\n",
    "\n",
    "def get_answer_pixel(answers, pixel_count_target):\n",
    "\n",
    "    answers_pc = [count_black_pixel(answer) for answer in answers]\n",
    "    answer_index = min(range(len(answers_pc)), key=lambda i: abs(answers_pc[i] - pixel_count_target))\n",
    "    answer_pixel_count = answers_pc[answer_index]\n",
    "  \n",
    "    prob = 1 - get_diff(answer_pixel_count, pixel_count_target)\n",
    "  \n",
    "    return answer_index + 1, prob\n",
    "\n",
    "def get_diff(mun1, mun2):\n",
    "\n",
    "    return 1 - min(mun1, mun2) / max(mun1, mun2)\n",
    "\n",
    "def get_candidate_intersect_3x3(image_dict, threshold=0.15):\n",
    "\n",
    "    # row inter\n",
    "    inter_AB = intersection(image_dict['A'], image_dict['B'])\n",
    "    inter_DE = intersection(image_dict['D'], image_dict['E'])\n",
    "\n",
    "    inter_AB_C_sim = similarity(inter_AB, image_dict['C'])\n",
    "    inter_DE_F_sim = similarity(inter_DE, image_dict['F'])\n",
    "\n",
    "    if inter_AB_C_sim >= 1 - threshold and inter_DE_F_sim >= 1 - threshold:\n",
    "        return intersection(image_dict['G'], image_dict['H'])\n",
    "\n",
    "    # col inter\n",
    "    inter_AD = intersection(image_dict['A'], image_dict['D'])\n",
    "    inter_BE = intersection(image_dict['B'], image_dict['E'])\n",
    "\n",
    "    inter_AD_G_sim = similarity(inter_AD, image_dict['G'])\n",
    "    inter_BE_H_sim = similarity(inter_BE, image_dict['H'])\n",
    "\n",
    "    if inter_AD_G_sim >= 1 - threshold and inter_BE_H_sim >= 1 - threshold:\n",
    "        return intersection(image_dict['C'], image_dict['F'])\n",
    "    \n",
    "\n",
    "def get_candidate_and_3x3(image_dict, threshold=0.15):\n",
    "\n",
    "    # row union\n",
    "    and_AB = cv2.bitwise_and(image_dict['A'], image_dict['B'])\n",
    "    and_DE = cv2.bitwise_and(image_dict['D'], image_dict['E'])\n",
    "\n",
    "    and_AB_C_sim = similarity(and_AB, image_dict['C'])\n",
    "    and_DE_F_sim = similarity(and_DE, image_dict['F'])\n",
    "\n",
    "    if and_AB_C_sim >= 1 - threshold and and_DE_F_sim >= 1 - threshold:\n",
    "        return cv2.bitwise_and(image_dict['G'], image_dict['H'])\n",
    "\n",
    "    # col union\n",
    "    and_AD = cv2.bitwise_and(image_dict['A'], image_dict['D'])\n",
    "    and_BE = cv2.bitwise_and(image_dict['B'], image_dict['E'])\n",
    "\n",
    "    and_AD_G_sim = similarity(and_AD, image_dict['G'])\n",
    "    and_BE_H_sim = similarity(and_BE, image_dict['H'])\n",
    "\n",
    "    if and_AD_G_sim >= 1 - threshold and and_BE_H_sim >= 1 - threshold:\n",
    "        return cv2.bitwise_and(image_dict['C'], image_dict['F'])\n",
    "    \n",
    "def get_candidate_xor_3x3(image_dict, threshold=0.25):\n",
    "\n",
    "    # row union\n",
    "    xor_AB = cv2.bitwise_xor(image_dict['A'], image_dict['B'])\n",
    "    xor_DE = cv2.bitwise_xor(image_dict['D'], image_dict['E'])\n",
    "\n",
    "    xor_AB_C_sim = -similarity(xor_AB, image_dict['C'])\n",
    "    xor_DE_F_sim = -similarity(xor_DE, image_dict['F'])\n",
    "    if xor_AB_C_sim >= 1 - threshold and xor_DE_F_sim >= 1 - threshold:\n",
    "        return cv2.bitwise_xor(image_dict['G'], image_dict['H'])\n",
    "\n",
    "    # col union\n",
    "    xor_AD = cv2.bitwise_xor(image_dict['A'], image_dict['D'])\n",
    "    xor_BE = cv2.bitwise_xor(image_dict['B'], image_dict['E'])\n",
    "\n",
    "    xor_AD_G_sim = -similarity(xor_AD, image_dict['G'])\n",
    "    xor_BE_H_sim = -similarity(xor_BE, image_dict['H'])\n",
    "\n",
    "    if xor_AD_G_sim >= 1 - threshold and xor_BE_H_sim >= 1 - threshold:\n",
    "        return cv2.bitwise_xor(image_dict['C'], image_dict['F'])\n",
    "\n",
    "def get_candidate_flip_3x3(image_dict, threshold=0.05):\n",
    "\n",
    "    # horizontal flip\n",
    "    hflip_A = cv2.flip(image_dict['A'], 1)\n",
    "    hflip_D = cv2.flip(image_dict['D'], 1)\n",
    "    AC_sim = similarity(hflip_A, image_dict['C'])\n",
    "    DF_sim = similarity(hflip_D, image_dict['F'])\n",
    "\n",
    "    if AC_sim >= 1 - threshold and DF_sim >= 1 - threshold:\n",
    "        return cv2.flip(image_dict['G'], 1)\n",
    "\n",
    "    # vertical flip\n",
    "    hflip_A = cv2.flip(image_dict['A'], 0)\n",
    "    hflip_B = cv2.flip(image_dict['B'], 0)\n",
    "    AG_sim = similarity(hflip_A, image_dict['G'])\n",
    "    BH_sim = similarity(hflip_B, image_dict['H'])\n",
    "\n",
    "    if AG_sim >= 1 - threshold and BH_sim >= 1 - threshold:\n",
    "        return cv2.flip(image_dict['C'], 0)\n",
    "\n",
    "def get_candidate_subtract_3x3(image_dict, threshold=0.05):\n",
    "\n",
    "    pc_dict = {}\n",
    "    for image_id, img in image_dict.items():\n",
    "        pc_dict[image_id] = count_black_pixel(img)\n",
    "        \n",
    "    # row 1\n",
    "    row_1_diff = pc_dict['A'] - pc_dict['B'] - pc_dict['C']\n",
    "    # row 2\n",
    "    row_2_diff = pc_dict['D'] - pc_dict['E'] - pc_dict['F']\n",
    "\n",
    "    if row_1_diff <= threshold and row_2_diff <= threshold:\n",
    "        return pc_dict['G'] - pc_dict['H']\n",
    "    \n",
    "    # col 1\n",
    "    row_1_diff = pc_dict['A'] - pc_dict['D'] - pc_dict['G']\n",
    "    # col 2\n",
    "    row_2_diff = pc_dict['B'] - pc_dict['E'] - pc_dict['H']\n",
    "\n",
    "    if row_1_diff <= threshold and row_2_diff <= threshold:\n",
    "        return pc_dict['C'] - pc_dict['F']\n",
    "\n",
    "def intersection(img1, img2):\n",
    "    intersec_pixels = np.all(img1 == 255, axis=2) | np.all(img2 == 255, axis=2) \n",
    "    output = np.zeros_like(img1)\n",
    "    output[intersec_pixels] = [[255, 255, 255]]\n",
    "\n",
    "    return output\n",
    "\n",
    "from itertools import combinations\n",
    "\n",
    "chars = \"ABCDEFGH\"\n",
    "combinations_of_3 = list(combinations(chars, 3))\n",
    "\n",
    "grouped_combinations = []  # Using a set to avoid duplicate groupings\n",
    "\n",
    "for i in range(len(combinations_of_3)):\n",
    "    for j in range(i+1, len(combinations_of_3)):\n",
    "        # Check that there are no overlapping characters\n",
    "        if not any(char in combinations_of_3[i] for char in combinations_of_3[j]):\n",
    "            # Remaining characters will be the third group\n",
    "            remaining = set(chars) - set(combinations_of_3[i]) - set(combinations_of_3[j])\n",
    "            third_group = tuple(sorted(remaining))\n",
    "            # Sorting the groups to avoid different orders\n",
    "            combo = tuple([(combinations_of_3[i], combinations_of_3[j]), third_group])\n",
    "            grouped_combinations.append(combo)\n",
    "\n",
    "def triple_xor(img1, img2, img3):\n",
    "    \n",
    "    similar_pixels = np.all(img1 == img2, axis=2) & np.all(img2 == img3, axis=2)\n",
    "    output = np.zeros_like(img1)\n",
    "    output[similar_pixels] = [[255, 255, 255]]\n",
    "\n",
    "    return output\n",
    "\n"
   ]
  },
  {
   "cell_type": "code",
   "execution_count": 6,
   "metadata": {},
   "outputs": [],
   "source": [
    "my_agent = Agent()"
   ]
  },
  {
   "cell_type": "code",
   "execution_count": 70,
   "metadata": {},
   "outputs": [],
   "source": [
    "basic = ProblemSet('Basic Problems D')\n",
    "basic.loadProblemSet()\n",
    "\n",
    "challenge = ProblemSet('Challenge Problems D')\n",
    "challenge.loadProblemSet()"
   ]
  },
  {
   "cell_type": "code",
   "execution_count": 71,
   "metadata": {},
   "outputs": [],
   "source": [
    "my_agent = Agent()"
   ]
  },
  {
   "cell_type": "code",
   "execution_count": 72,
   "metadata": {},
   "outputs": [
    {
     "name": "stdout",
     "output_type": "stream",
     "text": [
      "[(3, 1.0), (3, 0.9993664179984935), (None, None), (3, 1.0), (3, 1.0), (None, None), (None, None)]\n",
      "3 3\n",
      "[(None, None), (None, None), (None, None), (1, 0.9603024574669187), (None, None), (None, None), (None, None)]\n",
      "1 1\n",
      "[(None, None), (None, None), (None, None), (3, 0.9909026465028355), (None, None), (None, None), (None, None)]\n",
      "3 3\n",
      "[(None, None), (1, 0.9740141655792824), (None, None), (None, None), (None, None), (None, None), (None, None)]\n",
      "1 1\n",
      "[(None, None), (None, None), (None, None), (None, None), (None, None), (None, None), (None, None)]\n",
      "7 7\n",
      "[(None, None), (None, None), (None, None), (None, None), (None, None), (None, None), (6, array([[0.939847]], dtype=float32))]\n",
      "1 6\n",
      "[(None, None), (None, None), (None, None), (None, None), (None, None), (None, None), (None, None)]\n",
      "1 7\n",
      "[(None, None), (None, None), (None, None), (None, None), (None, None), (None, None), (None, None)]\n",
      "4 7\n",
      "[(None, None), (None, None), (None, None), (None, None), (None, None), (None, None), (None, None)]\n",
      "3 7\n",
      "[(None, None), (None, None), (None, None), (None, None), (None, None), (None, None), (None, None)]\n",
      "1 7\n",
      "[(None, None), (None, None), (None, None), (3, 0.9724421077504726), (None, None), (None, None), (None, None)]\n",
      "3 3\n",
      "[(None, None), (None, None), (None, None), (None, None), (None, None), (None, None), (None, None)]\n",
      "3 7\n"
     ]
    }
   ],
   "source": [
    "for problem in basic.problems[:12]:\n",
    "    print (problem.answer, my_agent.Solve(problem))"
   ]
  },
  {
   "cell_type": "code",
   "execution_count": 12,
   "metadata": {},
   "outputs": [],
   "source": [
    "image_dict={}\n",
    "for image_id in range(ord('A'), ord('H') + 1):\n",
    "    image_dict[chr(image_id)] = cv2.imread(problem.figures[chr(image_id)].visualFilename)"
   ]
  },
  {
   "cell_type": "code",
   "execution_count": 33,
   "metadata": {},
   "outputs": [],
   "source": []
  },
  {
   "cell_type": "code",
   "execution_count": 34,
   "metadata": {},
   "outputs": [
    {
     "data": {
      "text/plain": [
       "<matplotlib.image.AxesImage at 0x21daee4fe50>"
      ]
     },
     "execution_count": 34,
     "metadata": {},
     "output_type": "execute_result"
    },
    {
     "data": {
      "image/png": "[encoded data removed]",
      "text/plain": [
       "<Figure size 432x288 with 1 Axes>"
      ]
     },
     "metadata": {
      "needs_background": "light"
     },
     "output_type": "display_data"
    }
   ],
   "source": [
    "plt.imshow(output)"
   ]
  },
  {
   "cell_type": "code",
   "execution_count": 429,
   "metadata": {},
   "outputs": [],
   "source": [
    "def get_triple_xor_sum(combo):\n",
    "\n",
    "    (id1, id2, id3), (id4, id5, id6) = combo\n",
    "    img1, img2, img3, img4, img5, img6 = image_dict[id1], image_dict[id2], image_dict[id3], image_dict[id4], image_dict[id5], image_dict[id6]\n",
    "    trixor1 = triple_xor(img1, img2, img3)\n",
    "    trixor2 = triple_xor(img4, img5, img6)\n",
    "    pc_trixor = count_black_pixel(trixor1) + count_black_pixel(trixor2)\n",
    "    \n",
    "    return pc_trixor\n"
   ]
  },
  {
   "cell_type": "code",
   "execution_count": 436,
   "metadata": {},
   "outputs": [
    {
     "name": "stdout",
     "output_type": "stream",
     "text": [
      "((('A', 'B', 'C'), ('D', 'E', 'F')), ('G', 'H'))\n",
      "3 3 1.0\n",
      "((('B', 'F', 'G'), ('C', 'D', 'H')), ('A', 'E'))\n",
      "1 1 0.9603024574669187\n",
      "((('B', 'F', 'G'), ('C', 'D', 'H')), ('A', 'E'))\n",
      "3 3 0.9909026465028355\n",
      "((('A', 'D', 'G'), ('B', 'E', 'H')), ('C', 'F'))\n",
      "((('A', 'D', 'G'), ('B', 'E', 'H')), ('C', 'F'))\n",
      "((('A', 'B', 'C'), ('D', 'E', 'F')), ('G', 'H'))\n",
      "((('A', 'E', 'H'), ('B', 'F', 'G')), ('C', 'D'))\n",
      "((('A', 'C', 'E'), ('B', 'F', 'G')), ('D', 'H'))\n",
      "((('B', 'F', 'G'), ('C', 'D', 'H')), ('A', 'E'))\n",
      "((('A', 'F', 'H'), ('C', 'E', 'G')), ('B', 'D'))\n",
      "((('B', 'F', 'G'), ('C', 'D', 'H')), ('A', 'E'))\n",
      "3 3 0.9724421077504726\n",
      "((('A', 'C', 'D'), ('B', 'E', 'G')), ('F', 'H'))\n"
     ]
    }
   ],
   "source": [
    "for problem in basic.problems[:12]:\n",
    "    image_dict = {}\n",
    "    for image_id in range(ord('A'), ord('H') + 1):\n",
    "        image_dict[chr(image_id)] = cv2.imread(problem.figures[chr(image_id)].visualFilename)\n",
    "\n",
    "    answer_list = [cv2.imread(problem.figures[str(index)].visualFilename) for index in range(1, 9)]\n",
    "\n",
    "    answer, prob = None, None\n",
    "    best_combo = min(grouped_combinations, key=lambda combo: get_triple_xor_sum(combo[0]))\n",
    "    picked, rest = best_combo[0], best_combo[1]\n",
    "    print(best_combo)\n",
    "    triple_xor_sum = get_triple_xor_sum(picked)\n",
    "\n",
    "    (id1, id2, id3), (id4, id5, id6) = picked\n",
    "    img1, img2, img3, img4, img5, img6 = image_dict[id1], image_dict[id2], image_dict[id3], image_dict[id4], image_dict[id5], image_dict[id6]\n",
    "    trixor1 = triple_xor(img1, img2, img3)\n",
    "    trixor2 = triple_xor(img4, img5, img6)\n",
    "\n",
    "    if triple_xor_sum <= 3000:\n",
    "        answer_index = min(range(len(answer_list)), key=lambda answer_id: count_black_pixel(triple_xor(answer_list[answer_id], image_dict[rest[0]], image_dict[rest[1]])))\n",
    "        prob = 1- count_black_pixel(triple_xor(answer_list[answer_index], image_dict[rest[0]], image_dict[rest[1]])) / 184 ** 2\n",
    "        answer = answer_index+1\n",
    "        print(problem.answer, answer, prob)"
   ]
  },
  {
   "cell_type": "code",
   "execution_count": 398,
   "metadata": {},
   "outputs": [
    {
     "data": {
      "text/plain": [
       "<matplotlib.image.AxesImage at 0x1c633a9f100>"
      ]
     },
     "execution_count": 398,
     "metadata": {},
     "output_type": "execute_result"
    },
    {
     "data": {
      "image/png": "[encoded data removed]",
      "text/plain": [
       "<Figure size 432x288 with 1 Axes>"
      ]
     },
     "metadata": {
      "needs_background": "light"
     },
     "output_type": "display_data"
    }
   ],
   "source": [
    "plt.imshow(trixor)"
   ]
  },
  {
   "cell_type": "code",
   "execution_count": 409,
   "metadata": {},
   "outputs": [
    {
     "data": {
      "text/plain": [
       "<matplotlib.image.AxesImage at 0x1c633ca8610>"
      ]
     },
     "execution_count": 409,
     "metadata": {},
     "output_type": "execute_result"
    },
    {
     "data": {
      "image/png": "[encoded data removed]",
      "text/plain": [
       "<Figure size 432x288 with 1 Axes>"
      ]
     },
     "metadata": {
      "needs_background": "light"
     },
     "output_type": "display_data"
    }
   ],
   "source": [
    "plt.imshow(triple_xor(image_dict[\"G\"], image_dict[\"H\"], answer_list[2]))"
   ]
  },
  {
   "cell_type": "code",
   "execution_count": 399,
   "metadata": {},
   "outputs": [
    {
     "data": {
      "text/plain": [
       "<matplotlib.image.AxesImage at 0x1c633af8640>"
      ]
     },
     "execution_count": 399,
     "metadata": {},
     "output_type": "execute_result"
    },
    {
     "data": {
      "image/png": "[encoded data removed]",
      "text/plain": [
       "<Figure size 432x288 with 1 Axes>"
      ]
     },
     "metadata": {
      "needs_background": "light"
     },
     "output_type": "display_data"
    }
   ],
   "source": [
    "plt.imshow(triple_xor(answer_list[4], image_dict[rest[0]], image_dict[rest[1]]))"
   ]
  },
  {
   "cell_type": "code",
   "execution_count": 400,
   "metadata": {},
   "outputs": [
    {
     "data": {
      "text/plain": [
       "[array([[0.66986954]], dtype=float32),\n",
       " array([[0.61671305]], dtype=float32),\n",
       " array([[0.8699406]], dtype=float32),\n",
       " array([[0.88011855]], dtype=float32),\n",
       " array([[0.92425996]], dtype=float32),\n",
       " array([[0.5048686]], dtype=float32),\n",
       " array([[0.52138335]], dtype=float32),\n",
       " array([[0.4755825]], dtype=float32)]"
      ]
     },
     "execution_count": 400,
     "metadata": {},
     "output_type": "execute_result"
    }
   ],
   "source": [
    "[similarity(trixor, triple_xor(answer, image_dict[rest[0]], image_dict[rest[1]])) for answer in answer_list]"
   ]
  },
  {
   "cell_type": "code",
   "execution_count": 334,
   "metadata": {},
   "outputs": [
    {
     "name": "stdout",
     "output_type": "stream",
     "text": [
      "1 0.03700862895493773\n"
     ]
    }
   ],
   "source": []
  },
  {
   "cell_type": "code",
   "execution_count": null,
   "metadata": {},
   "outputs": [],
   "source": []
  }
 ],
 "metadata": {
  "kernelspec": {
   "display_name": "Python 3.8.5 ('base')",
   "language": "python",
   "name": "python3"
  },
  "language_info": {
   "codemirror_mode": {
    "name": "ipython",
    "version": 3
   },
   "file_extension": ".py",
   "mimetype": "text/x-python",
   "name": "python",
   "nbconvert_exporter": "python",
   "pygments_lexer": "ipython3",
   "version": "3.8.5"
  },
  "orig_nbformat": 4,
  "vscode": {
   "interpreter": {
    "hash": "5179d32cf6ec497baf3f8a3ef987cc77c5d2dc691fdde20a56316522f61a7323"
   }
  }
 },
 "nbformat": 4,
 "nbformat_minor": 2
}
